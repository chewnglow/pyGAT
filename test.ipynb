{
 "cells": [
  {
   "cell_type": "code",
   "execution_count": 1,
   "metadata": {},
   "outputs": [],
   "source": [
    "import numpy as np\n",
    "import torch\n",
    "import torch.nn as nn\n",
    "import torch.nn.functional as F\n"
   ]
  },
  {
   "cell_type": "code",
   "execution_count": 10,
   "metadata": {},
   "outputs": [],
   "source": [
    "N=3\n",
    "D=4\n",
    "h=5\n",
    "topic_s=1\n",
    "topic_e=2\n",
    "x = torch.randn(N, D)\n",
    "W_list=torch.randn(N,h,topic_e)"
   ]
  },
  {
   "cell_type": "code",
   "execution_count": 27,
   "metadata": {},
   "outputs": [],
   "source": [
    "def similarity(x1,x2):\n",
    "    sim=torch.cosine_similarity(x1,x2,dim=0)\n",
    "    x=sim*torch.cat((x1,x2),0)\n",
    "    # print(torch.cat((x1,x2),0))\n",
    "    return x"
   ]
  },
  {
   "cell_type": "code",
   "execution_count": 137,
   "metadata": {},
   "outputs": [
    {
     "name": "stdout",
     "output_type": "stream",
     "text": [
      "tensor([-0.7861,  0.3595, -1.5943,  0.1966, -0.7861,  0.3595, -1.5943,  0.1966])\n",
      "tensor([-0.7861,  0.3595, -1.5943,  0.1966, -0.4323, -0.7272,  1.1543,  1.7036])\n",
      "0 1\n",
      "tensor([-0.2076,  0.4524,  0.7720,  0.8702, -0.8109])\n",
      "tensor([ 1.8759, -0.0692, -0.0102, -0.4358,  1.4550])\n",
      "max_nums tensor(3) tensor(0)\n",
      "tensor([-0.3061,  0.7687,  1.3238, -0.4732, -1.6463])\n",
      "tensor([-0.3900,  0.7136, -0.9679,  0.1849, -0.0050])\n",
      "max_nums tensor(2) tensor(1)\n",
      "0.0\n",
      "tensor([-0.7861,  0.3595, -1.5943,  0.1966, -0.6052,  3.0320,  0.0388,  0.2366])\n",
      "0 2\n",
      "tensor([-0.2076,  0.4524,  0.7720,  0.8702, -0.8109])\n",
      "tensor([ 0.8428,  0.2086, -0.7503, -0.6541,  0.7237])\n",
      "max_nums tensor(3) tensor(0)\n",
      "tensor([-0.3061,  0.7687,  1.3238, -0.4732, -1.6463])\n",
      "tensor([ 1.6232,  0.1074,  0.6629, -0.8890,  1.2918])\n",
      "max_nums tensor(2) tensor(0)\n",
      "0.0\n",
      "tensor([-0.4323, -0.7272,  1.1543,  1.7036, -0.4323, -0.7272,  1.1543,  1.7036])\n",
      "tensor([-0.4323, -0.7272,  1.1543,  1.7036, -0.7861,  0.3595, -1.5943,  0.1966])\n",
      "1 0\n",
      "tensor([ 1.8759, -0.0692, -0.0102, -0.4358,  1.4550])\n",
      "tensor([-0.2076,  0.4524,  0.7720,  0.8702, -0.8109])\n",
      "max_nums tensor(0) tensor(3)\n",
      "tensor([-0.3900,  0.7136, -0.9679,  0.1849, -0.0050])\n",
      "tensor([-0.3061,  0.7687,  1.3238, -0.4732, -1.6463])\n",
      "max_nums tensor(1) tensor(2)\n",
      "0.0\n",
      "tensor([-0.4323, -0.7272,  1.1543,  1.7036, -0.6052,  3.0320,  0.0388,  0.2366])\n",
      "1 2\n",
      "tensor([ 1.8759, -0.0692, -0.0102, -0.4358,  1.4550])\n",
      "tensor([ 0.8428,  0.2086, -0.7503, -0.6541,  0.7237])\n",
      "max_nums tensor(0) tensor(0)\n",
      "tensor([-0.3900,  0.7136, -0.9679,  0.1849, -0.0050])\n",
      "tensor([ 1.6232,  0.1074,  0.6629, -0.8890,  1.2918])\n",
      "max_nums tensor(1) tensor(0)\n",
      "1.0\n",
      "tensor([-0.6052,  3.0320,  0.0388,  0.2366, -0.6052,  3.0320,  0.0388,  0.2366])\n",
      "tensor([-0.6052,  3.0320,  0.0388,  0.2366, -0.7861,  0.3595, -1.5943,  0.1966])\n",
      "2 0\n",
      "tensor([ 0.8428,  0.2086, -0.7503, -0.6541,  0.7237])\n",
      "tensor([-0.2076,  0.4524,  0.7720,  0.8702, -0.8109])\n",
      "max_nums tensor(0) tensor(3)\n",
      "tensor([ 1.6232,  0.1074,  0.6629, -0.8890,  1.2918])\n",
      "tensor([-0.3061,  0.7687,  1.3238, -0.4732, -1.6463])\n",
      "max_nums tensor(0) tensor(2)\n",
      "0.0\n",
      "tensor([-0.6052,  3.0320,  0.0388,  0.2366, -0.4323, -0.7272,  1.1543,  1.7036])\n",
      "2 1\n",
      "tensor([ 0.8428,  0.2086, -0.7503, -0.6541,  0.7237])\n",
      "tensor([ 1.8759, -0.0692, -0.0102, -0.4358,  1.4550])\n",
      "max_nums tensor(0) tensor(0)\n",
      "tensor([ 1.6232,  0.1074,  0.6629, -0.8890,  1.2918])\n",
      "tensor([-0.3900,  0.7136, -0.9679,  0.1849, -0.0050])\n",
      "max_nums tensor(0) tensor(1)\n",
      "1.0\n",
      "tensor([[-0.2620,  0.1198, -0.5314,  0.0655, -0.2620,  0.1198, -0.5314,  0.0655],\n",
      "        [-0.1129, -0.1899,  0.3014,  0.4448, -0.1004, -0.4614,  0.3820,  0.5508],\n",
      "        [-0.1580,  0.7916,  0.0101,  0.0618, -0.1705,  1.0632, -0.0705, -0.0442]])\n"
     ]
    }
   ],
   "source": [
    "new_nodes=[]\n",
    "for i in range(N):\n",
    "    anchor_node=similarity(x[i],x[i])\n",
    "    for j in range(N):\n",
    "        if j==i:continue\n",
    "        anchor_node_j=similarity(x[i],x[j])\n",
    "        print(i,j)\n",
    "        counts=0\n",
    "        for t in range(topic_e-topic_s+1):\n",
    "            print(W_list[i,:,t])\n",
    "            print(W_list[j,:,t])\n",
    "            max_si=torch.argmax(W_list[i,:,t])\n",
    "            max_s2=torch.argmax(W_list[j,:,t])\n",
    "            print ('max_nums',max_si,max_s2)\n",
    "            if max_si==max_s2:\n",
    "                counts+=1\n",
    "        # print(counts)\n",
    "        print(counts/(topic_e-topic_s))\n",
    "        anchor_node = anchor_node + counts/(topic_e-topic_s)*anchor_node_j\n",
    "    anchor_node = anchor_node/N\n",
    "    # print(anchor_node)\n",
    "    new_nodes.append(anchor_node.unsqueeze(0))\n",
    "new_nodes=torch.cat([n for n in new_nodes],0)\n",
    "print(new_nodes)"
   ]
  },
  {
   "cell_type": "code",
   "execution_count": 131,
   "metadata": {},
   "outputs": [
    {
     "name": "stdout",
     "output_type": "stream",
     "text": [
      "tensor([[-0.7861,  0.3595, -1.5943,  0.1966],\n",
      "        [-0.4323, -0.7272,  1.1543,  1.7036],\n",
      "        [-0.6052,  3.0320,  0.0388,  0.2366]])\n",
      "tensor([[ 1.0000, -0.3516,  0.2741, -0.3516,  1.0000, -0.2167,  0.2741, -0.2167,\n",
      "          1.0000]])\n",
      "tensor([[-0.7861,  0.3595, -1.5943,  0.1966, -0.7861,  0.3595, -1.5943,  0.1966],\n",
      "        [-0.4323, -0.7272,  1.1543,  1.7036, -0.7861,  0.3595, -1.5943,  0.1966],\n",
      "        [-0.6052,  3.0320,  0.0388,  0.2366, -0.7861,  0.3595, -1.5943,  0.1966],\n",
      "        [-0.7861,  0.3595, -1.5943,  0.1966, -0.4323, -0.7272,  1.1543,  1.7036],\n",
      "        [-0.4323, -0.7272,  1.1543,  1.7036, -0.4323, -0.7272,  1.1543,  1.7036],\n",
      "        [-0.6052,  3.0320,  0.0388,  0.2366, -0.4323, -0.7272,  1.1543,  1.7036],\n",
      "        [-0.7861,  0.3595, -1.5943,  0.1966, -0.6052,  3.0320,  0.0388,  0.2366],\n",
      "        [-0.4323, -0.7272,  1.1543,  1.7036, -0.6052,  3.0320,  0.0388,  0.2366],\n",
      "        [-0.6052,  3.0320,  0.0388,  0.2366, -0.6052,  3.0320,  0.0388,  0.2366]])\n",
      "tensor([[-0.7861,  0.3595, -1.5943,  0.1966, -0.7861,  0.3595, -1.5943,  0.1966],\n",
      "        [ 0.1520,  0.2557, -0.4059, -0.5990,  0.2764, -0.1264,  0.5606, -0.0691],\n",
      "        [-0.1659,  0.8310,  0.0106,  0.0649, -0.2154,  0.0985, -0.4369,  0.0539],\n",
      "        [ 0.2764, -0.1264,  0.5606, -0.0691,  0.1520,  0.2557, -0.4059, -0.5990],\n",
      "        [-0.4323, -0.7272,  1.1543,  1.7036, -0.4323, -0.7272,  1.1543,  1.7036],\n",
      "        [ 0.1312, -0.6571, -0.0084, -0.0513,  0.0937,  0.1576, -0.2502, -0.3692],\n",
      "        [-0.2154,  0.0985, -0.4369,  0.0539, -0.1659,  0.8310,  0.0106,  0.0649],\n",
      "        [ 0.0937,  0.1576, -0.2502, -0.3692,  0.1312, -0.6571, -0.0084, -0.0513],\n",
      "        [-0.6052,  3.0320,  0.0388,  0.2366, -0.6052,  3.0320,  0.0388,  0.2366]])\n",
      "tensor([[[-0.7861,  0.3595, -1.5943,  0.1966, -0.7861,  0.3595, -1.5943,\n",
      "           0.1966],\n",
      "         [ 0.1520,  0.2557, -0.4059, -0.5990,  0.2764, -0.1264,  0.5606,\n",
      "          -0.0691],\n",
      "         [-0.1659,  0.8310,  0.0106,  0.0649, -0.2154,  0.0985, -0.4369,\n",
      "           0.0539]],\n",
      "\n",
      "        [[ 0.2764, -0.1264,  0.5606, -0.0691,  0.1520,  0.2557, -0.4059,\n",
      "          -0.5990],\n",
      "         [-0.4323, -0.7272,  1.1543,  1.7036, -0.4323, -0.7272,  1.1543,\n",
      "           1.7036],\n",
      "         [ 0.1312, -0.6571, -0.0084, -0.0513,  0.0937,  0.1576, -0.2502,\n",
      "          -0.3692]],\n",
      "\n",
      "        [[-0.2154,  0.0985, -0.4369,  0.0539, -0.1659,  0.8310,  0.0106,\n",
      "           0.0649],\n",
      "         [ 0.0937,  0.1576, -0.2502, -0.3692,  0.1312, -0.6571, -0.0084,\n",
      "          -0.0513],\n",
      "         [-0.6052,  3.0320,  0.0388,  0.2366, -0.6052,  3.0320,  0.0388,\n",
      "           0.2366]]])\n"
     ]
    }
   ],
   "source": [
    "print(x)\n",
    "t1=x.repeat(N,1)\n",
    "t2=x.repeat(1,N).reshape(-1,D)\n",
    "t=torch.cat((t1,t2),1)\n",
    "sim=torch.cosine_similarity(t1,t2)\n",
    "sim=sim.unsqueeze(0)\n",
    "print(sim)\n",
    "print(t)\n",
    "t=sim.T*t\n",
    "print(t)\n",
    "t=t.reshape(N,N,-1)\n",
    "print(t)"
   ]
  },
  {
   "cell_type": "code",
   "execution_count": 140,
   "metadata": {
    "scrolled": true
   },
   "outputs": [
    {
     "name": "stdout",
     "output_type": "stream",
     "text": [
      "tensor([[[ True,  True],\n",
      "         [False, False],\n",
      "         [False, False]],\n",
      "\n",
      "        [[False, False],\n",
      "         [ True,  True],\n",
      "         [ True, False]],\n",
      "\n",
      "        [[False, False],\n",
      "         [ True, False],\n",
      "         [ True,  True]]])\n",
      "tensor([[[2],\n",
      "         [0],\n",
      "         [0]],\n",
      "\n",
      "        [[0],\n",
      "         [2],\n",
      "         [1]],\n",
      "\n",
      "        [[0],\n",
      "         [1],\n",
      "         [2]]])\n",
      "tensor([[[1.0000],\n",
      "         [0.0000],\n",
      "         [0.0000]],\n",
      "\n",
      "        [[0.0000],\n",
      "         [1.0000],\n",
      "         [0.5000]],\n",
      "\n",
      "        [[0.0000],\n",
      "         [0.5000],\n",
      "         [1.0000]]]) torch.Size([3, 3, 1])\n"
     ]
    }
   ],
   "source": [
    "# print(W_list,W_list.shape)\n",
    "W_max=torch.argmax(W_list,dim=1)\n",
    "# print(W_max,W_max.shape)\n",
    "W1=W_max.repeat(N,1).reshape(-1,N,topic_e-topic_s+1)\n",
    "W2=W_max.repeat(1,N).reshape(-1,N,topic_e-topic_s+1)\n",
    "# print(W1)\n",
    "# print(W2)\n",
    "comp=torch.eq(W1,W2)\n",
    "print(comp)\n",
    "topic_count=torch.sum(comp,dim=2,keepdim=True)\n",
    "print(topic_count)\n",
    "topic_count=torch.div(topic_count.float(),topic_e-topic_s+1)\n",
    "print(topic_count,topic_count.shape)\n",
    "# comp=W1*comp\n",
    "# comp=W2*comp\n",
    "# print(comp)\n",
    "# W_count=1-torch.nonzero(W_max>0)\n",
    "# topic_count=torch.sum(W_count,dim=0)\n",
    "# print(W_max,W_max.shape)\n",
    "# print(W_count)\n",
    "# print(topic_count)"
   ]
  },
  {
   "cell_type": "code",
   "execution_count": 141,
   "metadata": {},
   "outputs": [
    {
     "name": "stdout",
     "output_type": "stream",
     "text": [
      "tensor([[[1.0000],\n",
      "         [0.0000],\n",
      "         [0.0000]],\n",
      "\n",
      "        [[0.0000],\n",
      "         [1.0000],\n",
      "         [0.5000]],\n",
      "\n",
      "        [[0.0000],\n",
      "         [0.5000],\n",
      "         [1.0000]]])\n",
      "tensor([[0.3333],\n",
      "        [0.5000],\n",
      "        [0.5000]])\n"
     ]
    }
   ],
   "source": [
    "new_n=topic_count*t\n",
    "print(new_n)\n",
    "new_n=torch.mean(new_n,dim=0)\n",
    "print(new_n)"
   ]
  },
  {
   "cell_type": "code",
   "execution_count": null,
   "metadata": {},
   "outputs": [],
   "source": []
  },
  {
   "cell_type": "code",
   "execution_count": null,
   "metadata": {},
   "outputs": [],
   "source": []
  }
 ],
 "metadata": {
  "kernelspec": {
   "display_name": "Python 3",
   "language": "python",
   "name": "python3"
  },
  "language_info": {
   "codemirror_mode": {
    "name": "ipython",
    "version": 3
   },
   "file_extension": ".py",
   "mimetype": "text/x-python",
   "name": "python",
   "nbconvert_exporter": "python",
   "pygments_lexer": "ipython3",
   "version": "3.6.10"
  }
 },
 "nbformat": 4,
 "nbformat_minor": 1
}
